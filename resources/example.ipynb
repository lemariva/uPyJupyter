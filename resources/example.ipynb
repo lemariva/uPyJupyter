{
 "cells": [
  {
   "cell_type": "code",
   "execution_count": 1,
   "metadata": {},
   "outputs": [
    {
     "name": "stdout",
     "output_type": "stream",
     "text": [
      "\u001b[34mConnecting to --port=/dev/ttyUSB0 --baud=115200 \u001b[0m\n",
      "\u001b[34mReady.\n",
      "\u001b[0m"
     ]
    }
   ],
   "source": [
    "%serialconnect /dev/ttyUSB0 --baudrate=115200 --user='micro' --password='python' --wait=0"
   ]
  },
  {
   "cell_type": "code",
   "execution_count": 3,
   "metadata": {},
   "outputs": [
    {
     "name": "stdout",
     "output_type": "stream",
     "text": [
      "%capture [--quiet] [--QUIET] outputfilename\n",
      "    records output to a file\n",
      "\n",
      "%comment\n",
      "    print this into output\n",
      "\n",
      "%disconnect [--raw]\n",
      "    disconnects from web/serial connection\n",
      "\n",
      "%esptool [--port PORT] {erase,esp32,esp8266} [binfile]\n",
      "    commands for flashing your esp-device\n",
      "\n",
      "%fetchfile [--binary] [--print] [--quiet] [--QUIET]\n",
      "                  sourcefilename [destinationfilename]\n",
      "    fetch and save a file from the device\n",
      "\n",
      "%lsmagic\n",
      "    list magic commands\n",
      "\n",
      "%mpy-cross [--set-exe SET_EXE] [pyfile]\n",
      "    cross-compile a .py file to a .mpy file\n",
      "\n",
      "%readbytes\n",
      "    does serial.read_all()\n",
      "\n",
      "%readbytes [--binary]\n",
      "    does serial.read_all()\n",
      "\n",
      "%rebootdevice\n",
      "    reboots device\n",
      "\n",
      "%sendtofile [--append] [--mkdir] [--binary] [--execute]\n",
      "                   [--source [SOURCE]] [--quiet] [--QUIET]\n",
      "                   [destinationfilename]\n",
      "    send cell contents or file/direcectory to the device\n",
      "\n",
      "%serialconnect [--raw] [--port PORT] [--baud BAUD] [--verbose]\n",
      "    connects to a device over USB wire\n",
      "\n",
      "%socketconnect [--raw] ipnumber portnumber\n",
      "    connects to a socket of a device over wifi\n",
      "\n",
      "%suppressendcode\n",
      "    doesn't send x04 or wait to read after sending the contents of the cell\n",
      "  (assists for debugging using %writebytes and %readbytes)\n",
      "\n",
      "%websocketconnect [--raw] [--password PASSWORD] [--verbose]\n",
      "                         [websocketurl]\n",
      "    connects to the webREPL websocket of an ESP8266 over wifi\n",
      "    websocketurl defaults to ws://192.168.4.1:8266 but be sure to be connected\n",
      "\n",
      "%writebytes [--binary] [--verbose] stringtosend\n",
      "    does serial.write() of the python quoted string given\n",
      "\n",
      "%%writefile [--append] [--execute] destinationfilename\n",
      "    write contents of cell to a file\n",
      "\n"
     ]
    }
   ],
   "source": [
    "%lsmagic"
   ]
  },
  {
   "cell_type": "code",
   "execution_count": null,
   "metadata": {},
   "outputs": [],
   "source": [
    "import os\n",
    "print(os.listdir())"
   ]
  }
 ],
 "metadata": {
  "kernelspec": {
   "display_name": "MicroPython - USB",
   "language": "micropython",
   "name": "micropython"
  },
  "language_info": {
   "codemirror_mode": "python",
   "file_extension": ".py",
   "mimetype": "text/python",
   "name": "micropython"
  }
 },
 "nbformat": 4,
 "nbformat_minor": 2
}
